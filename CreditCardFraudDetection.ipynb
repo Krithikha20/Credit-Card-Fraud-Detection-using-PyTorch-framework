{
 "cells": [
  {
   "cell_type": "markdown",
   "id": "d7b24c96",
   "metadata": {},
   "source": [
    "\n",
    "# <center> Project 2 - Credit Card Fraud Detection  <center>\n",
    "\n",
    "<hr style=\"border:2px  solid black\"> </hr>"
   ]
  },
  {
   "cell_type": "markdown",
   "id": "4c30c858",
   "metadata": {},
   "source": [
    "### TABLE OF CONTENTS\n",
    "    \n",
    "1. [Importing the libraries](#lib_import)\n",
    "2.[Exploring the 'Credit' Dataset](#explore-ds)\n",
    "3.[Data Preparation](#data_prep)\n",
    "    * [Check for null values](#null)\n",
    "    *[Check for outliers](#outliers)\n",
    "    *[Target variable distribution](#imb)\n",
    "    *[Check the distribution of data using histograms](#hist)\n",
    "    \n",
    "\n",
    "4. [Data Modelling](#dm)\n",
    "    * [Train_test_split ](#tts)\n",
    "    * [Standardizing the feature and Resampling](#scal)\n",
    "    * [Implementing Neural Network](#lm) :\n",
    "        * [Creation of Feed forward neural Network](#esti)\n",
    "        * [Instantiation of the network](#keras)\n",
    "        * [Training the model](#model)\n",
    "\n",
    "        \n",
    "    \n",
    "5. [Model Evaluation](#me)\n",
    "    \n",
    "6. [Conclusion](#cln)\n",
    "\n",
    "7. [Overall Observation](#ob)"
   ]
  },
  {
   "cell_type": "markdown",
   "id": "1f6656a0",
   "metadata": {},
   "source": [
    "\n",
    "<hr style=\"border:.1px  solid  gray\"> </hr>\n",
    "\n",
    "## <CENTER> IMPORTING THE LIBRARIES<a name=\"lib_import\"></a>\n",
    "\n",
    "<hr style=\"border:01px  solid gray\"> </hr>"
   ]
  },
  {
   "cell_type": "code",
   "execution_count": 1,
   "id": "af6a4786",
   "metadata": {},
   "outputs": [],
   "source": [
    "#importing the libraries\n",
    "\n",
    "import pandas as pd\n",
    "import numpy as np\n",
    "import seaborn as sns\n",
    "import collections\n",
    "from tqdm import tqdm, tqdm_notebook\n",
    "\n",
    "# PyTorch Packages\n",
    "import torch.nn as nn\n",
    "from torch.autograd import Variable\n",
    "from torch.autograd import Variable as V\n",
    "import torch.nn.functional as F\n",
    "import torch\n",
    "from torch.utils.data import Dataset, DataLoader, WeightedRandomSampler\n",
    "\n",
    "# SKLearn Packages\n",
    "from sklearn.preprocessing import StandardScaler\n",
    "from sklearn.preprocessing import MinMaxScaler   \n",
    "from sklearn.model_selection import train_test_split\n",
    "from sklearn.metrics import (confusion_matrix, precision_recall_curve, auc,\n",
    "                             roc_curve, recall_score, classification_report, f1_score)\n",
    "from sklearn.metrics import accuracy_score, precision_score\n",
    "\n",
    "# Plotting packages\n",
    "import matplotlib.pyplot as plt\n",
    "%matplotlib inline\n",
    "\n"
   ]
  },
  {
   "cell_type": "code",
   "execution_count": 2,
   "id": "82bdc805",
   "metadata": {},
   "outputs": [],
   "source": [
    "#read the csv file\n",
    "df = pd.read_csv('FraudDetection.csv')"
   ]
  },
  {
   "cell_type": "code",
   "execution_count": 3,
   "id": "3d43ef35",
   "metadata": {},
   "outputs": [
    {
     "data": {
      "text/html": [
       "<div>\n",
       "<style scoped>\n",
       "    .dataframe tbody tr th:only-of-type {\n",
       "        vertical-align: middle;\n",
       "    }\n",
       "\n",
       "    .dataframe tbody tr th {\n",
       "        vertical-align: top;\n",
       "    }\n",
       "\n",
       "    .dataframe thead th {\n",
       "        text-align: right;\n",
       "    }\n",
       "</style>\n",
       "<table border=\"1\" class=\"dataframe\">\n",
       "  <thead>\n",
       "    <tr style=\"text-align: right;\">\n",
       "      <th></th>\n",
       "      <th>Time</th>\n",
       "      <th>V1</th>\n",
       "      <th>V2</th>\n",
       "      <th>V3</th>\n",
       "      <th>V4</th>\n",
       "      <th>V5</th>\n",
       "      <th>V6</th>\n",
       "      <th>V7</th>\n",
       "      <th>V8</th>\n",
       "      <th>V9</th>\n",
       "      <th>...</th>\n",
       "      <th>V21</th>\n",
       "      <th>V22</th>\n",
       "      <th>V23</th>\n",
       "      <th>V24</th>\n",
       "      <th>V25</th>\n",
       "      <th>V26</th>\n",
       "      <th>V27</th>\n",
       "      <th>V28</th>\n",
       "      <th>Amount</th>\n",
       "      <th>Class</th>\n",
       "    </tr>\n",
       "  </thead>\n",
       "  <tbody>\n",
       "    <tr>\n",
       "      <th>57350</th>\n",
       "      <td>172751</td>\n",
       "      <td>2.085387</td>\n",
       "      <td>-0.033624</td>\n",
       "      <td>-1.706889</td>\n",
       "      <td>-0.015100</td>\n",
       "      <td>0.644669</td>\n",
       "      <td>-0.245303</td>\n",
       "      <td>0.125758</td>\n",
       "      <td>-0.156508</td>\n",
       "      <td>0.277994</td>\n",
       "      <td>...</td>\n",
       "      <td>0.256304</td>\n",
       "      <td>0.862281</td>\n",
       "      <td>-0.063211</td>\n",
       "      <td>0.143339</td>\n",
       "      <td>0.361885</td>\n",
       "      <td>-0.124856</td>\n",
       "      <td>-0.025472</td>\n",
       "      <td>-0.066836</td>\n",
       "      <td>2.27</td>\n",
       "      <td>0</td>\n",
       "    </tr>\n",
       "    <tr>\n",
       "      <th>57351</th>\n",
       "      <td>172760</td>\n",
       "      <td>-6.713826</td>\n",
       "      <td>2.369104</td>\n",
       "      <td>-3.534768</td>\n",
       "      <td>-0.368259</td>\n",
       "      <td>-1.721030</td>\n",
       "      <td>-1.322808</td>\n",
       "      <td>-0.190876</td>\n",
       "      <td>0.891149</td>\n",
       "      <td>2.068476</td>\n",
       "      <td>...</td>\n",
       "      <td>0.131247</td>\n",
       "      <td>0.994246</td>\n",
       "      <td>-0.002140</td>\n",
       "      <td>-0.072979</td>\n",
       "      <td>-0.167159</td>\n",
       "      <td>-0.387271</td>\n",
       "      <td>-2.616341</td>\n",
       "      <td>0.474584</td>\n",
       "      <td>19.59</td>\n",
       "      <td>0</td>\n",
       "    </tr>\n",
       "    <tr>\n",
       "      <th>57352</th>\n",
       "      <td>172768</td>\n",
       "      <td>-2.076175</td>\n",
       "      <td>2.142238</td>\n",
       "      <td>-2.522704</td>\n",
       "      <td>-1.888063</td>\n",
       "      <td>1.982785</td>\n",
       "      <td>3.732950</td>\n",
       "      <td>-1.217430</td>\n",
       "      <td>-0.536644</td>\n",
       "      <td>0.272867</td>\n",
       "      <td>...</td>\n",
       "      <td>2.016666</td>\n",
       "      <td>-1.588269</td>\n",
       "      <td>0.588482</td>\n",
       "      <td>0.632444</td>\n",
       "      <td>-0.201064</td>\n",
       "      <td>0.199251</td>\n",
       "      <td>0.438657</td>\n",
       "      <td>0.172923</td>\n",
       "      <td>8.95</td>\n",
       "      <td>0</td>\n",
       "    </tr>\n",
       "    <tr>\n",
       "      <th>57353</th>\n",
       "      <td>172770</td>\n",
       "      <td>2.007418</td>\n",
       "      <td>-0.280235</td>\n",
       "      <td>-0.208113</td>\n",
       "      <td>0.335261</td>\n",
       "      <td>-0.715798</td>\n",
       "      <td>-0.751373</td>\n",
       "      <td>-0.458972</td>\n",
       "      <td>-0.140140</td>\n",
       "      <td>0.959971</td>\n",
       "      <td>...</td>\n",
       "      <td>-0.208260</td>\n",
       "      <td>-0.430347</td>\n",
       "      <td>0.416765</td>\n",
       "      <td>0.064819</td>\n",
       "      <td>-0.608337</td>\n",
       "      <td>0.268436</td>\n",
       "      <td>-0.028069</td>\n",
       "      <td>-0.041367</td>\n",
       "      <td>3.99</td>\n",
       "      <td>0</td>\n",
       "    </tr>\n",
       "    <tr>\n",
       "      <th>57354</th>\n",
       "      <td>172777</td>\n",
       "      <td>-1.266580</td>\n",
       "      <td>-0.400461</td>\n",
       "      <td>0.956221</td>\n",
       "      <td>-0.723919</td>\n",
       "      <td>1.531993</td>\n",
       "      <td>-1.788600</td>\n",
       "      <td>0.314741</td>\n",
       "      <td>0.004704</td>\n",
       "      <td>0.013857</td>\n",
       "      <td>...</td>\n",
       "      <td>-0.157831</td>\n",
       "      <td>-0.883365</td>\n",
       "      <td>0.088485</td>\n",
       "      <td>-0.076790</td>\n",
       "      <td>-0.095833</td>\n",
       "      <td>0.132720</td>\n",
       "      <td>-0.028468</td>\n",
       "      <td>0.126494</td>\n",
       "      <td>0.89</td>\n",
       "      <td>0</td>\n",
       "    </tr>\n",
       "  </tbody>\n",
       "</table>\n",
       "<p>5 rows × 31 columns</p>\n",
       "</div>"
      ],
      "text/plain": [
       "         Time        V1        V2        V3        V4        V5        V6  \\\n",
       "57350  172751  2.085387 -0.033624 -1.706889 -0.015100  0.644669 -0.245303   \n",
       "57351  172760 -6.713826  2.369104 -3.534768 -0.368259 -1.721030 -1.322808   \n",
       "57352  172768 -2.076175  2.142238 -2.522704 -1.888063  1.982785  3.732950   \n",
       "57353  172770  2.007418 -0.280235 -0.208113  0.335261 -0.715798 -0.751373   \n",
       "57354  172777 -1.266580 -0.400461  0.956221 -0.723919  1.531993 -1.788600   \n",
       "\n",
       "             V7        V8        V9  ...       V21       V22       V23  \\\n",
       "57350  0.125758 -0.156508  0.277994  ...  0.256304  0.862281 -0.063211   \n",
       "57351 -0.190876  0.891149  2.068476  ...  0.131247  0.994246 -0.002140   \n",
       "57352 -1.217430 -0.536644  0.272867  ...  2.016666 -1.588269  0.588482   \n",
       "57353 -0.458972 -0.140140  0.959971  ... -0.208260 -0.430347  0.416765   \n",
       "57354  0.314741  0.004704  0.013857  ... -0.157831 -0.883365  0.088485   \n",
       "\n",
       "            V24       V25       V26       V27       V28  Amount  Class  \n",
       "57350  0.143339  0.361885 -0.124856 -0.025472 -0.066836    2.27      0  \n",
       "57351 -0.072979 -0.167159 -0.387271 -2.616341  0.474584   19.59      0  \n",
       "57352  0.632444 -0.201064  0.199251  0.438657  0.172923    8.95      0  \n",
       "57353  0.064819 -0.608337  0.268436 -0.028069 -0.041367    3.99      0  \n",
       "57354 -0.076790 -0.095833  0.132720 -0.028468  0.126494    0.89      0  \n",
       "\n",
       "[5 rows x 31 columns]"
      ]
     },
     "execution_count": 3,
     "metadata": {},
     "output_type": "execute_result"
    }
   ],
   "source": [
    "df.tail()"
   ]
  },
  {
   "cell_type": "markdown",
   "id": "cd66bdf9",
   "metadata": {},
   "source": [
    "<hr style=\"border:01px  solid gray\"> </hr>\n",
    "\n",
    "## <center>EXPLORING THE CREDITCARD DATASET<a name=\"explore-ds\"></a>\n",
    "    \n",
    "\n",
    "<hr style=\"border:01px  solid gray\"> </hr>\n",
    "\n",
    "Here, we would be exploring the dataset in general, like the below: \n",
    "\n",
    "* Shape, column names and size of the dataset\n",
    "* Unique values of target variable. \n",
    "* Descirptive statistics.\n",
    "* Datatype and overview . \n",
    "* Count of values of each feature and the target variable."
   ]
  },
  {
   "cell_type": "code",
   "execution_count": 4,
   "id": "1544ea3d",
   "metadata": {},
   "outputs": [
    {
     "data": {
      "text/plain": [
       "(57355, 31)"
      ]
     },
     "execution_count": 4,
     "metadata": {},
     "output_type": "execute_result"
    }
   ],
   "source": [
    "#get the shape of the ds\n",
    "df.shape\n"
   ]
  },
  {
   "cell_type": "code",
   "execution_count": 5,
   "id": "6dc4ae3f",
   "metadata": {},
   "outputs": [
    {
     "data": {
      "text/html": [
       "<div>\n",
       "<style scoped>\n",
       "    .dataframe tbody tr th:only-of-type {\n",
       "        vertical-align: middle;\n",
       "    }\n",
       "\n",
       "    .dataframe tbody tr th {\n",
       "        vertical-align: top;\n",
       "    }\n",
       "\n",
       "    .dataframe thead th {\n",
       "        text-align: right;\n",
       "    }\n",
       "</style>\n",
       "<table border=\"1\" class=\"dataframe\">\n",
       "  <thead>\n",
       "    <tr style=\"text-align: right;\">\n",
       "      <th></th>\n",
       "      <th>Time</th>\n",
       "      <th>V1</th>\n",
       "      <th>V2</th>\n",
       "      <th>V3</th>\n",
       "      <th>V4</th>\n",
       "      <th>V5</th>\n",
       "      <th>V6</th>\n",
       "      <th>V7</th>\n",
       "      <th>V8</th>\n",
       "      <th>V9</th>\n",
       "      <th>...</th>\n",
       "      <th>V21</th>\n",
       "      <th>V22</th>\n",
       "      <th>V23</th>\n",
       "      <th>V24</th>\n",
       "      <th>V25</th>\n",
       "      <th>V26</th>\n",
       "      <th>V27</th>\n",
       "      <th>V28</th>\n",
       "      <th>Amount</th>\n",
       "      <th>Class</th>\n",
       "    </tr>\n",
       "  </thead>\n",
       "  <tbody>\n",
       "    <tr>\n",
       "      <th>count</th>\n",
       "      <td>57355.000000</td>\n",
       "      <td>57355.000000</td>\n",
       "      <td>57355.000000</td>\n",
       "      <td>57355.000000</td>\n",
       "      <td>57355.000000</td>\n",
       "      <td>57355.000000</td>\n",
       "      <td>57355.000000</td>\n",
       "      <td>57355.000000</td>\n",
       "      <td>57355.000000</td>\n",
       "      <td>57355.000000</td>\n",
       "      <td>...</td>\n",
       "      <td>57355.000000</td>\n",
       "      <td>57355.000000</td>\n",
       "      <td>57355.000000</td>\n",
       "      <td>57355.000000</td>\n",
       "      <td>57355.000000</td>\n",
       "      <td>57355.000000</td>\n",
       "      <td>57355.000000</td>\n",
       "      <td>57355.000000</td>\n",
       "      <td>57355.000000</td>\n",
       "      <td>57355.000000</td>\n",
       "    </tr>\n",
       "    <tr>\n",
       "      <th>mean</th>\n",
       "      <td>94577.357074</td>\n",
       "      <td>-0.029092</td>\n",
       "      <td>0.030156</td>\n",
       "      <td>-0.055749</td>\n",
       "      <td>0.035521</td>\n",
       "      <td>-0.022664</td>\n",
       "      <td>-0.006869</td>\n",
       "      <td>-0.032448</td>\n",
       "      <td>0.006142</td>\n",
       "      <td>-0.017667</td>\n",
       "      <td>...</td>\n",
       "      <td>0.005569</td>\n",
       "      <td>-0.000265</td>\n",
       "      <td>0.003273</td>\n",
       "      <td>0.001159</td>\n",
       "      <td>0.005003</td>\n",
       "      <td>0.003133</td>\n",
       "      <td>0.000226</td>\n",
       "      <td>-0.000625</td>\n",
       "      <td>88.825575</td>\n",
       "      <td>0.008578</td>\n",
       "    </tr>\n",
       "    <tr>\n",
       "      <th>std</th>\n",
       "      <td>47505.713234</td>\n",
       "      <td>2.061391</td>\n",
       "      <td>1.711228</td>\n",
       "      <td>1.733364</td>\n",
       "      <td>1.484621</td>\n",
       "      <td>1.508300</td>\n",
       "      <td>1.361819</td>\n",
       "      <td>1.504317</td>\n",
       "      <td>1.334058</td>\n",
       "      <td>1.131679</td>\n",
       "      <td>...</td>\n",
       "      <td>0.813950</td>\n",
       "      <td>0.734597</td>\n",
       "      <td>0.625238</td>\n",
       "      <td>0.604653</td>\n",
       "      <td>0.519852</td>\n",
       "      <td>0.482496</td>\n",
       "      <td>0.433713</td>\n",
       "      <td>0.323980</td>\n",
       "      <td>279.496913</td>\n",
       "      <td>0.092221</td>\n",
       "    </tr>\n",
       "    <tr>\n",
       "      <th>min</th>\n",
       "      <td>2.000000</td>\n",
       "      <td>-36.802320</td>\n",
       "      <td>-63.344698</td>\n",
       "      <td>-48.325589</td>\n",
       "      <td>-5.519697</td>\n",
       "      <td>-113.743307</td>\n",
       "      <td>-19.996349</td>\n",
       "      <td>-43.557242</td>\n",
       "      <td>-73.216718</td>\n",
       "      <td>-13.434066</td>\n",
       "      <td>...</td>\n",
       "      <td>-34.830382</td>\n",
       "      <td>-10.933144</td>\n",
       "      <td>-32.828995</td>\n",
       "      <td>-2.822384</td>\n",
       "      <td>-8.696627</td>\n",
       "      <td>-2.534330</td>\n",
       "      <td>-8.878665</td>\n",
       "      <td>-15.430084</td>\n",
       "      <td>0.000000</td>\n",
       "      <td>0.000000</td>\n",
       "    </tr>\n",
       "    <tr>\n",
       "      <th>25%</th>\n",
       "      <td>53943.500000</td>\n",
       "      <td>-0.927615</td>\n",
       "      <td>-0.588747</td>\n",
       "      <td>-0.922554</td>\n",
       "      <td>-0.839400</td>\n",
       "      <td>-0.692157</td>\n",
       "      <td>-0.774796</td>\n",
       "      <td>-0.558211</td>\n",
       "      <td>-0.207145</td>\n",
       "      <td>-0.651869</td>\n",
       "      <td>...</td>\n",
       "      <td>-0.226932</td>\n",
       "      <td>-0.541278</td>\n",
       "      <td>-0.161812</td>\n",
       "      <td>-0.354648</td>\n",
       "      <td>-0.312164</td>\n",
       "      <td>-0.322536</td>\n",
       "      <td>-0.070642</td>\n",
       "      <td>-0.052695</td>\n",
       "      <td>5.475000</td>\n",
       "      <td>0.000000</td>\n",
       "    </tr>\n",
       "    <tr>\n",
       "      <th>50%</th>\n",
       "      <td>84641.000000</td>\n",
       "      <td>0.015980</td>\n",
       "      <td>0.071801</td>\n",
       "      <td>0.168619</td>\n",
       "      <td>-0.005637</td>\n",
       "      <td>-0.055913</td>\n",
       "      <td>-0.276163</td>\n",
       "      <td>0.035797</td>\n",
       "      <td>0.024380</td>\n",
       "      <td>-0.053373</td>\n",
       "      <td>...</td>\n",
       "      <td>-0.028379</td>\n",
       "      <td>0.004681</td>\n",
       "      <td>-0.011439</td>\n",
       "      <td>0.041286</td>\n",
       "      <td>0.021494</td>\n",
       "      <td>-0.049135</td>\n",
       "      <td>0.000859</td>\n",
       "      <td>0.011169</td>\n",
       "      <td>21.990000</td>\n",
       "      <td>0.000000</td>\n",
       "    </tr>\n",
       "    <tr>\n",
       "      <th>75%</th>\n",
       "      <td>139140.000000</td>\n",
       "      <td>1.314129</td>\n",
       "      <td>0.815413</td>\n",
       "      <td>1.019384</td>\n",
       "      <td>0.764271</td>\n",
       "      <td>0.607021</td>\n",
       "      <td>0.387408</td>\n",
       "      <td>0.562758</td>\n",
       "      <td>0.333358</td>\n",
       "      <td>0.599522</td>\n",
       "      <td>...</td>\n",
       "      <td>0.190245</td>\n",
       "      <td>0.529286</td>\n",
       "      <td>0.147282</td>\n",
       "      <td>0.439244</td>\n",
       "      <td>0.352590</td>\n",
       "      <td>0.243882</td>\n",
       "      <td>0.091355</td>\n",
       "      <td>0.078500</td>\n",
       "      <td>76.900000</td>\n",
       "      <td>0.000000</td>\n",
       "    </tr>\n",
       "    <tr>\n",
       "      <th>max</th>\n",
       "      <td>172777.000000</td>\n",
       "      <td>2.454930</td>\n",
       "      <td>22.057729</td>\n",
       "      <td>3.940337</td>\n",
       "      <td>16.715537</td>\n",
       "      <td>28.762671</td>\n",
       "      <td>73.301626</td>\n",
       "      <td>120.589494</td>\n",
       "      <td>20.007208</td>\n",
       "      <td>10.348407</td>\n",
       "      <td>...</td>\n",
       "      <td>27.202839</td>\n",
       "      <td>10.503090</td>\n",
       "      <td>22.528412</td>\n",
       "      <td>4.584549</td>\n",
       "      <td>5.826159</td>\n",
       "      <td>3.517346</td>\n",
       "      <td>31.612198</td>\n",
       "      <td>15.866721</td>\n",
       "      <td>25691.160000</td>\n",
       "      <td>1.000000</td>\n",
       "    </tr>\n",
       "  </tbody>\n",
       "</table>\n",
       "<p>8 rows × 31 columns</p>\n",
       "</div>"
      ],
      "text/plain": [
       "                Time            V1            V2            V3            V4  \\\n",
       "count   57355.000000  57355.000000  57355.000000  57355.000000  57355.000000   \n",
       "mean    94577.357074     -0.029092      0.030156     -0.055749      0.035521   \n",
       "std     47505.713234      2.061391      1.711228      1.733364      1.484621   \n",
       "min         2.000000    -36.802320    -63.344698    -48.325589     -5.519697   \n",
       "25%     53943.500000     -0.927615     -0.588747     -0.922554     -0.839400   \n",
       "50%     84641.000000      0.015980      0.071801      0.168619     -0.005637   \n",
       "75%    139140.000000      1.314129      0.815413      1.019384      0.764271   \n",
       "max    172777.000000      2.454930     22.057729      3.940337     16.715537   \n",
       "\n",
       "                 V5            V6            V7            V8            V9  \\\n",
       "count  57355.000000  57355.000000  57355.000000  57355.000000  57355.000000   \n",
       "mean      -0.022664     -0.006869     -0.032448      0.006142     -0.017667   \n",
       "std        1.508300      1.361819      1.504317      1.334058      1.131679   \n",
       "min     -113.743307    -19.996349    -43.557242    -73.216718    -13.434066   \n",
       "25%       -0.692157     -0.774796     -0.558211     -0.207145     -0.651869   \n",
       "50%       -0.055913     -0.276163      0.035797      0.024380     -0.053373   \n",
       "75%        0.607021      0.387408      0.562758      0.333358      0.599522   \n",
       "max       28.762671     73.301626    120.589494     20.007208     10.348407   \n",
       "\n",
       "       ...           V21           V22           V23           V24  \\\n",
       "count  ...  57355.000000  57355.000000  57355.000000  57355.000000   \n",
       "mean   ...      0.005569     -0.000265      0.003273      0.001159   \n",
       "std    ...      0.813950      0.734597      0.625238      0.604653   \n",
       "min    ...    -34.830382    -10.933144    -32.828995     -2.822384   \n",
       "25%    ...     -0.226932     -0.541278     -0.161812     -0.354648   \n",
       "50%    ...     -0.028379      0.004681     -0.011439      0.041286   \n",
       "75%    ...      0.190245      0.529286      0.147282      0.439244   \n",
       "max    ...     27.202839     10.503090     22.528412      4.584549   \n",
       "\n",
       "                V25           V26           V27           V28        Amount  \\\n",
       "count  57355.000000  57355.000000  57355.000000  57355.000000  57355.000000   \n",
       "mean       0.005003      0.003133      0.000226     -0.000625     88.825575   \n",
       "std        0.519852      0.482496      0.433713      0.323980    279.496913   \n",
       "min       -8.696627     -2.534330     -8.878665    -15.430084      0.000000   \n",
       "25%       -0.312164     -0.322536     -0.070642     -0.052695      5.475000   \n",
       "50%        0.021494     -0.049135      0.000859      0.011169     21.990000   \n",
       "75%        0.352590      0.243882      0.091355      0.078500     76.900000   \n",
       "max        5.826159      3.517346     31.612198     15.866721  25691.160000   \n",
       "\n",
       "              Class  \n",
       "count  57355.000000  \n",
       "mean       0.008578  \n",
       "std        0.092221  \n",
       "min        0.000000  \n",
       "25%        0.000000  \n",
       "50%        0.000000  \n",
       "75%        0.000000  \n",
       "max        1.000000  \n",
       "\n",
       "[8 rows x 31 columns]"
      ]
     },
     "execution_count": 5,
     "metadata": {},
     "output_type": "execute_result"
    }
   ],
   "source": [
    "#get the descriptive stats of the ds\n",
    "df.describe()"
   ]
  },
  {
   "cell_type": "code",
   "execution_count": 6,
   "id": "6427afd3",
   "metadata": {},
   "outputs": [
    {
     "name": "stdout",
     "output_type": "stream",
     "text": [
      "<class 'pandas.core.frame.DataFrame'>\n",
      "RangeIndex: 57355 entries, 0 to 57354\n",
      "Data columns (total 31 columns):\n",
      " #   Column  Non-Null Count  Dtype  \n",
      "---  ------  --------------  -----  \n",
      " 0   Time    57355 non-null  int64  \n",
      " 1   V1      57355 non-null  float64\n",
      " 2   V2      57355 non-null  float64\n",
      " 3   V3      57355 non-null  float64\n",
      " 4   V4      57355 non-null  float64\n",
      " 5   V5      57355 non-null  float64\n",
      " 6   V6      57355 non-null  float64\n",
      " 7   V7      57355 non-null  float64\n",
      " 8   V8      57355 non-null  float64\n",
      " 9   V9      57355 non-null  float64\n",
      " 10  V10     57355 non-null  float64\n",
      " 11  V11     57355 non-null  float64\n",
      " 12  V12     57355 non-null  float64\n",
      " 13  V13     57355 non-null  float64\n",
      " 14  V14     57355 non-null  float64\n",
      " 15  V15     57355 non-null  float64\n",
      " 16  V16     57355 non-null  float64\n",
      " 17  V17     57355 non-null  float64\n",
      " 18  V18     57355 non-null  float64\n",
      " 19  V19     57355 non-null  float64\n",
      " 20  V20     57355 non-null  float64\n",
      " 21  V21     57355 non-null  float64\n",
      " 22  V22     57355 non-null  float64\n",
      " 23  V23     57355 non-null  float64\n",
      " 24  V24     57355 non-null  float64\n",
      " 25  V25     57355 non-null  float64\n",
      " 26  V26     57355 non-null  float64\n",
      " 27  V27     57355 non-null  float64\n",
      " 28  V28     57355 non-null  float64\n",
      " 29  Amount  57355 non-null  float64\n",
      " 30  Class   57355 non-null  int64  \n",
      "dtypes: float64(29), int64(2)\n",
      "memory usage: 13.6 MB\n"
     ]
    }
   ],
   "source": [
    "#get the ds info on dtype\n",
    "df.info()"
   ]
  },
  {
   "cell_type": "code",
   "execution_count": 7,
   "id": "d41e6bc1",
   "metadata": {},
   "outputs": [
    {
     "name": "stdout",
     "output_type": "stream",
     "text": [
      "Unique values in target variable 'Class'are : [0 1]\n"
     ]
    }
   ],
   "source": [
    "#get the unique value of the target label 'quality' \n",
    "print( \"Unique values in target variable 'Class'are :\" , df.Class.unique())"
   ]
  },
  {
   "cell_type": "code",
   "execution_count": 8,
   "id": "0d42431b",
   "metadata": {},
   "outputs": [
    {
     "data": {
      "text/plain": [
       "Index(['Time', 'V1', 'V2', 'V3', 'V4', 'V5', 'V6', 'V7', 'V8', 'V9', 'V10',\n",
       "       'V11', 'V12', 'V13', 'V14', 'V15', 'V16', 'V17', 'V18', 'V19', 'V20',\n",
       "       'V21', 'V22', 'V23', 'V24', 'V25', 'V26', 'V27', 'V28', 'Amount',\n",
       "       'Class'],\n",
       "      dtype='object')"
      ]
     },
     "execution_count": 8,
     "metadata": {},
     "output_type": "execute_result"
    }
   ],
   "source": [
    "#get the column names\n",
    "df.columns"
   ]
  },
  {
   "cell_type": "markdown",
   "id": "6b09dba2",
   "metadata": {},
   "source": [
    "***\n",
    "\n",
    "**OBSERVATION**\n",
    "\n",
    "* From the above cells, we infer that the credit card dataset has 57355 rows with 31 columns. \n",
    "* In `cell 4`, the shape is retreived.\n",
    "* The datatype is obtained from the `info()` keyword, which states they are numeric values(Independent features are Float and the dependent feature is integer).\n",
    "* In `cell 6`, `describe()` , shows the descriptive statistics of the data set. It is evident that the value of column Time and Amount are not in range with respect to the other columns. \n",
    "* Also, in `cell 7` , we check for the unique values present in the target variable `Class`. \n",
    "* `Cell 8`, the column names are retrieved.\n",
    "***"
   ]
  },
  {
   "cell_type": "markdown",
   "id": "b3dab144",
   "metadata": {},
   "source": [
    "<hr style=\"border:01px  solid gray\"> </hr>\n",
    "\n",
    "## <center>DATA PREPARATION <a name=\"data_prep\"></a>\n",
    "\n",
    "<hr style=\"border:01px  solid gray\"> </hr>\n",
    "\n",
    "\n",
    "In this section, we will be performing data preparation steps like the below: \n",
    "1. [Check for null values](#null)\n",
    "2. [Check for outliers](#outliers)\n",
    "3. [Implement Correlation heatmap](#heatmap)\n",
    "4. [Check for target variable distribution](#imb)\n",
    "5. [Check the distribution of data using histograms](#hist)\n",
    "\n",
    "\n",
    "***"
   ]
  },
  {
   "cell_type": "markdown",
   "id": "530a6a43",
   "metadata": {},
   "source": [
    "### 1. Check for NULL , Nan and missing values : <a name=\"null\"></a>"
   ]
  },
  {
   "cell_type": "code",
   "execution_count": 9,
   "id": "6d6af646",
   "metadata": {},
   "outputs": [
    {
     "data": {
      "text/plain": [
       "False"
      ]
     },
     "execution_count": 9,
     "metadata": {},
     "output_type": "execute_result"
    }
   ],
   "source": [
    "#check for null values\n",
    "df.isnull().sum().any()"
   ]
  },
  {
   "cell_type": "code",
   "execution_count": 10,
   "id": "77233037",
   "metadata": {},
   "outputs": [
    {
     "data": {
      "text/plain": [
       "False"
      ]
     },
     "execution_count": 10,
     "metadata": {},
     "output_type": "execute_result"
    }
   ],
   "source": [
    "#check for Nan values\n",
    "df.isna().sum().any()"
   ]
  },
  {
   "cell_type": "code",
   "execution_count": 11,
   "id": "e5d0d78a",
   "metadata": {},
   "outputs": [
    {
     "name": "stdout",
     "output_type": "stream",
     "text": [
      "\n",
      "CHECK FOR DUPLICATE VALUES:\n",
      " False    57262\n",
      "True        93\n",
      "dtype: int64\n",
      "\n",
      "\n",
      "GET THE DUPLICATE VALUE:\n",
      "          Time        V1        V2        V3        V4        V5        V6  \\\n",
      "397      1548 -1.559446  1.425546  0.812589 -1.129381  0.507528  0.183507   \n",
      "398      1548 -1.559446  1.425546  0.812589 -1.129381  0.507528  0.183507   \n",
      "2833    24646  1.100828  0.115819  1.539031  1.643405 -0.753781  0.227847   \n",
      "2834    24646  1.100828  0.115819  1.539031  1.643405 -0.753781  0.227847   \n",
      "3659    29058  1.076018 -0.126284  1.320255  1.154681 -0.892714  0.356662   \n",
      "...       ...       ...       ...       ...       ...       ...       ...   \n",
      "54080  163152 -1.196037  1.585949  2.883976  3.378471  1.511706  3.717077   \n",
      "54081  163152 -1.196037  1.585949  2.883976  3.378471  1.511706  3.717077   \n",
      "55834  167397 -3.665041  1.485038 -2.453237 -0.573034  0.451813 -0.193622   \n",
      "55835  167397 -3.665041  1.485038 -2.453237 -0.573034  0.451813 -0.193622   \n",
      "55836  167397 -3.665041  1.485038 -2.453237 -0.573034  0.451813 -0.193622   \n",
      "\n",
      "             V7        V8        V9  ...       V21       V22       V23  \\\n",
      "397    0.654304  0.088059  0.480018  ... -0.283995 -0.413642 -0.234995   \n",
      "398    0.654304  0.088059  0.480018  ... -0.283995 -0.413642 -0.234995   \n",
      "2833  -0.629308  0.085986  2.116901  ... -0.273328 -0.166427  0.092607   \n",
      "2834  -0.629308  0.085986  2.116901  ... -0.273328 -0.166427  0.092607   \n",
      "3659  -0.792107  0.396302  0.630048  ...  0.071098  0.320206  0.055667   \n",
      "...         ...       ...       ...  ...       ...       ...       ...   \n",
      "54080  0.585362 -0.156001  0.122648  ... -0.370294  0.524395 -0.355170   \n",
      "54081  0.585362 -0.156001  0.122648  ... -0.370294  0.524395 -0.355170   \n",
      "55834  0.940279 -0.303793  1.177504  ...  0.511187  1.225418 -0.412156   \n",
      "55835  0.940279 -0.303793  1.177504  ...  0.511187  1.225418 -0.412156   \n",
      "55836  0.940279 -0.303793  1.177504  ...  0.511187  1.225418 -0.412156   \n",
      "\n",
      "            V24       V25       V26       V27       V28  Amount  Class  \n",
      "397   -0.789509  0.324851  0.419737  0.329608  0.351346    5.00      0  \n",
      "398   -0.789509  0.324851  0.419737  0.329608  0.351346    5.00      0  \n",
      "2833   0.374218  0.335810 -0.488461  0.070995  0.030446    1.00      0  \n",
      "2834   0.374218  0.335810 -0.488461  0.070995  0.030446    1.00      0  \n",
      "3659   0.204490  0.230282 -0.396762  0.077135  0.024214    1.00      0  \n",
      "...         ...       ...       ...       ...       ...     ...    ...  \n",
      "54080 -0.869790 -0.133198  0.327804 -0.035702 -0.858197    7.56      0  \n",
      "54081 -0.869790 -0.133198  0.327804 -0.035702 -0.858197    7.56      0  \n",
      "55834 -0.528074 -0.584538 -0.487005 -3.698726 -0.232653   26.73      0  \n",
      "55835 -0.528074 -0.584538 -0.487005 -3.698726 -0.232653   26.73      0  \n",
      "55836 -0.528074 -0.584538 -0.487005 -3.698726 -0.232653   26.73      0  \n",
      "\n",
      "[170 rows x 31 columns]\n"
     ]
    }
   ],
   "source": [
    "#duplicate values and Nan are checked for :\n",
    "print(\"\\nCHECK FOR DUPLICATE VALUES:\\n\",df.duplicated().value_counts())\n",
    "print()\n",
    "print()\n",
    "print(\"GET THE DUPLICATE VALUE:\\n\", df[df.duplicated(keep=False)])"
   ]
  },
  {
   "cell_type": "code",
   "execution_count": 12,
   "id": "ed01eaf9",
   "metadata": {},
   "outputs": [
    {
     "name": "stdout",
     "output_type": "stream",
     "text": [
      "\n",
      "\n",
      "SHAPE BEFORE ELIMINATING DUPLICATE VALUES: (57355, 31)\n",
      "\n",
      "SHAPE AFTER ELIMINATING DUPLICATE VALUES: (57262, 31)\n"
     ]
    }
   ],
   "source": [
    "#check duplicate and remove if found\n",
    "print(\"\\n\\nSHAPE BEFORE ELIMINATING DUPLICATE VALUES:\" , df.shape)\n",
    "df.drop_duplicates(inplace = True)\n",
    "print(\"\\nSHAPE AFTER ELIMINATING DUPLICATE VALUES:\" , df.shape)"
   ]
  },
  {
   "cell_type": "markdown",
   "id": "b687e4cd",
   "metadata": {},
   "source": [
    "***\n",
    "\n",
    "<b>OBSERVATION:</b> \n",
    "\n",
    "* The above cells shows there is no missing value and no Nan, in the dataset indicating it's a clean dataset. \n",
    "But when checked for duplicates, we find about 93 duplicate values are present. In `cell 11`, bool value `False = 57262`is  returned.\n",
    "* In `Cell 12`, the dupliacte values are removed and the **new shape after deletion is 57262 rows.** \n",
    "\n",
    "***"
   ]
  },
  {
   "cell_type": "markdown",
   "id": "e5a872ba",
   "metadata": {},
   "source": [
    "###  2. Check for Outliers : <a name=\"outliers\"></a>"
   ]
  },
  {
   "cell_type": "code",
   "execution_count": 13,
   "id": "920b5f5e",
   "metadata": {},
   "outputs": [],
   "source": [
    "#outlier detection\n",
    "\n",
    "\n",
    "from collections import Counter \n",
    "features = df.columns.values.tolist()\n",
    "features.remove(\"Class\")\n",
    "\n",
    "outlier_index = list()\n",
    "\n",
    "for feature in features:\n",
    "    \n",
    "    q1 = np.percentile(df[feature], 25)\n",
    "    q3 = np.percentile(df[feature], 75)\n",
    "    \n",
    "    iqr = q3 - q1\n",
    "    \n",
    "    step = iqr * 1.5\n",
    "    \n",
    "    lower_bound = q1 - step\n",
    "    upper_bound = q3 + step\n",
    "    \n",
    "# List of indices where the attribute value lies outside the bounds\n",
    "feature_outliers = df[(df[feature] < lower_bound) | (df[feature] > upper_bound)].index\n",
    "outlier_index.extend(feature_outliers)\n",
    "outlier_index = Counter(outlier_index) "
   ]
  },
  {
   "cell_type": "code",
   "execution_count": 14,
   "id": "c7f6251e",
   "metadata": {},
   "outputs": [
    {
     "name": "stdout",
     "output_type": "stream",
     "text": [
      "Found 6391 outliers in the entire dataset.\n"
     ]
    }
   ],
   "source": [
    "outlier_list = [index for index, count in outlier_index.items() if count > 0]\n",
    "\n",
    "print(f\"Found {len(outlier_list)} outliers in the entire dataset.\")"
   ]
  },
  {
   "cell_type": "code",
   "execution_count": 15,
   "id": "d1ffe1ca",
   "metadata": {},
   "outputs": [
    {
     "data": {
      "text/plain": [
       "(50871, 31)"
      ]
     },
     "execution_count": 15,
     "metadata": {},
     "output_type": "execute_result"
    }
   ],
   "source": [
    "df = df.drop(outlier_list, axis=0).reset_index(drop=True)\n",
    "df.shape"
   ]
  },
  {
   "cell_type": "markdown",
   "id": "eb2211ff",
   "metadata": {},
   "source": [
    "***\n",
    "\n",
    "<b>OBSERVATION:</b>\n",
    "\n",
    "* In this section, outlier check is done in the 25th ,75th percentile boundary. \n",
    "* Cell 14, shows 6391 outliers are present above the range 0. \n",
    "* The shape is 50871 after outlier removal.\n",
    "* We decide to remove the outliers as our dataset is large. Also, since in realtime precise classification is to be made. \n",
    "\n",
    "***"
   ]
  },
  {
   "cell_type": "markdown",
   "id": "653d15d6",
   "metadata": {},
   "source": [
    "### 3. Check for distribution of the target variable 'Class' : \n",
    "<a name=\"imb\"></a>"
   ]
  },
  {
   "cell_type": "code",
   "execution_count": 16,
   "id": "cefd2b3d",
   "metadata": {},
   "outputs": [
    {
     "data": {
      "image/png": "[encoded data removed]",
      "text/plain": [
       "<Figure size 432x288 with 1 Axes>"
      ]
     },
     "metadata": {
      "needs_background": "light"
     },
     "output_type": "display_data"
    }
   ],
   "source": [
    "# To check for class imabalance distribution in target variable'Class'\n",
    "labels = [\"Normal(0)\", \"Fraud(1)\"]\n",
    "sns.countplot(x ='Class' , data = df, palette = \"Accent\")\n",
    "plt.title(\"Normal vs Fraudulent Transactions\")\n",
    "plt.xticks(range(2), labels)\n",
    "plt.xlabel(\"Class\")\n",
    "plt.ylabel(\"Frequency\");"
   ]
  },
  {
   "cell_type": "code",
   "execution_count": 17,
   "id": "31b7a511",
   "metadata": {},
   "outputs": [
    {
     "data": {
      "text/plain": [
       "0    50485\n",
       "1      386\n",
       "Name: Class, dtype: int64"
      ]
     },
     "execution_count": 17,
     "metadata": {},
     "output_type": "execute_result"
    }
   ],
   "source": [
    "df['Class'].value_counts()"
   ]
  },
  {
   "cell_type": "markdown",
   "id": "d0f107bc",
   "metadata": {},
   "source": [
    "***\n",
    "<b>OBSERVATION:</b>\n",
    "\n",
    "1. We have used a `countplot`, to depict the variations in the target variable. \n",
    "    * We observe that the dirstibution is more concentrated in `Class 0`.\n",
    "    * It is imablanced.\n",
    "2. Next, to view the class imbalance, `countplot` is used.\n",
    "    * Also, the unique `value_counts()` are got in `cell 17`, to get the exact values. \n",
    "    * We can say,maximum value is present in `Class==0` which is 50485 and the least in `Class==1` which has 386 values.\n",
    "    \n",
    "NOTE : Since the target variable is highly imbalanced , sampling is vital for prediction.\n"
   ]
  },
  {
   "cell_type": "markdown",
   "id": "56ffcf43",
   "metadata": {},
   "source": [
    "### 4. Histogram Plots:\n",
    "\n",
    "<a name=\"hist\"></a>"
   ]
  },
  {
   "cell_type": "code",
   "execution_count": 18,
   "id": "e0a3ba17",
   "metadata": {},
   "outputs": [
    {
     "data": {
      "image/png": "[encoded data removed]",
      "text/plain": [
       "<Figure size 1080x1080 with 36 Axes>"
      ]
     },
     "metadata": {
      "needs_background": "light"
     },
     "output_type": "display_data"
    }
   ],
   "source": [
    "#histogram plotting using pandas\n",
    "\n",
    "df.hist(edgecolor='black', linewidth=1.2 , density = True)\n",
    "fig=plt.gcf()\n",
    "fig.set_size_inches(15,15)\n",
    "plt.show()"
   ]
  },
  {
   "cell_type": "markdown",
   "id": "b0f6e4cf",
   "metadata": {},
   "source": [
    "***\n",
    "\n",
    "<b>OBSERVATION:</b>\n",
    "\n",
    "From the above histogram, \n",
    "* We can infer that, most of the features are evenly distributed except `Time` and `Amount`. \n",
    "* `Amount` exhibits highest right skewness, from `cell 18`\n",
    "* `Time` shows a bimodal distribution.\n",
    "* Other distribution seems to be categorical and with normal distribution\n",
    "\n",
    "<u>**NOTE**</u> Transforming the features would be mandatory to bring them in range prior prediction because of uneven distribution.\n",
    "\n",
    "\n",
    "\n",
    "***"
   ]
  },
  {
   "cell_type": "markdown",
   "id": "84605c50",
   "metadata": {},
   "source": [
    "<hr style=\"border:01px  solid gray\"> </hr>\n",
    "\n",
    "## <center>DATA MODELLING<a name=\"dm\"></a>\n",
    "\n",
    "<hr style=\"border:01px  solid gray\"> </hr>\n",
    "\n",
    "\n",
    "1. [Train_test_split](#scal)\n",
    "2. [Standardizing the feature](#tts)\n",
    "3. [Implementing Neural Netwrok](#lm) :\n",
    "    * [a. Creation of Feed forward neural Network](#esti)\n",
    "    * [b. Instantiation of the network](#keras)\n",
    "    * [c. Training the model](#model)"
   ]
  },
  {
   "cell_type": "markdown",
   "id": "a0f324fe",
   "metadata": {},
   "source": [
    "### 1. Train_test_split : <a name=\"tts\"></a>"
   ]
  },
  {
   "cell_type": "code",
   "execution_count": 19,
   "id": "6bc4c295",
   "metadata": {},
   "outputs": [],
   "source": [
    "df['Time'] = df['Time'].apply(lambda x: np.ceil(float(x)/3600) % 24.)\n",
    "X = df.iloc[:, 0:-1]\n",
    "y = df.iloc[:, -1]"
   ]
  },
  {
   "cell_type": "code",
   "execution_count": 20,
   "id": "a02c740f",
   "metadata": {},
   "outputs": [],
   "source": [
    "# Split into train+val and test\n",
    "X_trainval, X_test, y_trainval, y_test = train_test_split(X, y, test_size=0.2, stratify=y, random_state=69)\n",
    "\n",
    "# Split train into train-val\n",
    "X_train, X_val, y_train, y_val = train_test_split(X_trainval, y_trainval, test_size=0.1, stratify=y_trainval, random_state=21)"
   ]
  },
  {
   "cell_type": "markdown",
   "id": "8eb8a1a8",
   "metadata": {},
   "source": [
    "***\n",
    "\n",
    "<b>OBSERVATION:</b>\n",
    "\n",
    "\n",
    "* In `cell 19` , Time is normalized as it is in seocnds in the raw datset. Therefore , it is converted to a 24hr format using lambda function.\n",
    "* Also, columns are split to Features and labels for predction. \n",
    "* The dataset is split into 80 :20 ratio in `cell 20`. Also, since class imbalance exists, we use `stratify = y` . \n",
    "* Train set has 40697 samples which is 80% of the total (50871 samples) and test set has 10174 samples.\n",
    "\n",
    "<u>**NOTE**</u> Transforming the features would be mandatory to bring them in range prior prediction because of uneven distribution.\n",
    "\n",
    "\n",
    "\n",
    "***"
   ]
  },
  {
   "cell_type": "markdown",
   "id": "5e8d6b25",
   "metadata": {},
   "source": [
    " ### 2. Standardizing the feature and resampling: <a name=\"scal\"></a>"
   ]
  },
  {
   "cell_type": "code",
   "execution_count": 21,
   "id": "9f890818",
   "metadata": {},
   "outputs": [],
   "source": [
    "scaler = MinMaxScaler()\n",
    "X_train = scaler.fit_transform(X_train)\n",
    "X_val = scaler.transform(X_val)\n",
    "X_test = scaler.transform(X_test)\n",
    "X_train, y_train = np.array(X_train), np.array(y_train)\n",
    "X_val, y_val = np.array(X_val), np.array(y_val)\n",
    "X_test, y_test = np.array(X_test), np.array(y_test)"
   ]
  },
  {
   "cell_type": "code",
   "execution_count": 22,
   "id": "8ccc28b1",
   "metadata": {},
   "outputs": [],
   "source": [
    "#function call creation\n",
    "\n",
    "def get_class_distribution(obj):\n",
    "    count_dict = {\n",
    "        \"Normal\": 0,\n",
    "        \"Fraud\": 0,\n",
    "    \n",
    "    }\n",
    "    \n",
    "    for i in obj:\n",
    "        if i == 0: \n",
    "            count_dict['Normal'] += 1\n",
    "        elif i == 1: \n",
    "            count_dict['Fraud'] += 1\n",
    "                 \n",
    "        else:\n",
    "            print(\"Check classes.\")\n",
    "            \n",
    "    return count_dict\n",
    "\n",
    "class ClassifierDataset(Dataset):\n",
    "    \n",
    "    def __init__(self, X_data, y_data):\n",
    "        self.X_data = X_data\n",
    "        self.y_data = y_data\n",
    "        \n",
    "    def __getitem__(self, index):\n",
    "        return self.X_data[index], self.y_data[index]\n",
    "        \n",
    "    def __len__ (self):\n",
    "        return len(self.X_data)\n",
    "\n",
    "\n",
    "train_dataset = ClassifierDataset(torch.from_numpy(X_train).float(), torch.from_numpy(y_train).long())\n",
    "val_dataset = ClassifierDataset(torch.from_numpy(X_val).float(), torch.from_numpy(y_val).long())\n",
    "test_dataset = ClassifierDataset(torch.from_numpy(X_test).float(), torch.from_numpy(y_test).long())"
   ]
  },
  {
   "cell_type": "code",
   "execution_count": 23,
   "id": "d6ee9413",
   "metadata": {},
   "outputs": [],
   "source": [
    "target_list = []\n",
    "for _, t in train_dataset:\n",
    "    target_list.append(t)\n",
    "    \n",
    "target_list = torch.tensor(target_list)\n",
    "target_list = target_list[torch.randperm(len(target_list))]"
   ]
  },
  {
   "cell_type": "code",
   "execution_count": 24,
   "id": "1ea24a70",
   "metadata": {},
   "outputs": [
    {
     "name": "stdout",
     "output_type": "stream",
     "text": [
      "tensor([2.7512e-05, 3.5971e-03])\n"
     ]
    }
   ],
   "source": [
    "class_count = [i for i in get_class_distribution(y_train).values()]\n",
    "class_weights = 1./torch.tensor(class_count, dtype=torch.float) \n",
    "print(class_weights)"
   ]
  },
  {
   "cell_type": "code",
   "execution_count": 25,
   "id": "4ecbd4b4",
   "metadata": {},
   "outputs": [],
   "source": [
    "class_weights_all = class_weights[target_list]\n"
   ]
  },
  {
   "cell_type": "code",
   "execution_count": 26,
   "id": "3aec89c9",
   "metadata": {},
   "outputs": [],
   "source": [
    "weighted_sampler = WeightedRandomSampler(\n",
    "    weights=class_weights_all,\n",
    "    num_samples=len(class_weights_all),\n",
    "    replacement=True\n",
    ")"
   ]
  },
  {
   "cell_type": "code",
   "execution_count": 27,
   "id": "61b07bf0",
   "metadata": {},
   "outputs": [],
   "source": [
    "EPOCHS = 10\n",
    "BATCH_SIZE = 7200\n",
    "NUM_FEATURES = len(X.columns)\n",
    "NUM_CLASSES = 2\n",
    "LEARNING_RATE = 0.0001"
   ]
  },
  {
   "cell_type": "code",
   "execution_count": 28,
   "id": "cec1b10e",
   "metadata": {},
   "outputs": [],
   "source": [
    "train_loader = DataLoader(dataset=train_dataset,\n",
    "                          batch_size=BATCH_SIZE,\n",
    "                          sampler=weighted_sampler\n",
    ")\n",
    "val_loader = DataLoader(dataset=val_dataset, batch_size=1)\n",
    "test_loader = DataLoader(dataset=test_dataset, batch_size=1)"
   ]
  },
  {
   "cell_type": "markdown",
   "id": "af526bc2",
   "metadata": {},
   "source": [
    "***\n",
    "\n",
    "<b>OBSERVATION:</b>\n",
    "\n",
    "\n",
    "* * In `cell 21` MinMaxScaler is applied and values are reshaped. SInce amount is used, we don't use standard scaler as currency doens't come innegative values. \n",
    "    * `cell 21` shows the valus after scaling\n",
    "* In `cell 26`, weightedRandomSampler is used to balance the data class. it is passed with `replacement =TRue` which means samples are drawn withreplacement. \n",
    "* In `cell 27` , the important parametrs like epoch , batch_size are passed with the below values\n",
    "\n",
    "`EPOCHS = 10\n",
    "BATCH_SIZE = 7200\n",
    "NUM_FEATURES = len(X.columns)\n",
    "NUM_CLASSES = 2\n",
    "LEARNING_RATE = 0.0001`\n",
    "\n",
    "* In `cell 28`, the sampled dataset is loaded using Dataloader.\n",
    "\n",
    "***"
   ]
  },
  {
   "cell_type": "markdown",
   "id": "582bb1ec",
   "metadata": {},
   "source": [
    "### 3. Implementing Neural Network: <a name=\"lm\"></a>"
   ]
  },
  {
   "cell_type": "markdown",
   "id": "b5ddcd75",
   "metadata": {},
   "source": [
    "###  a. Create the Feed Forward Neural Network <a name=\"esti\"></a>"
   ]
  },
  {
   "cell_type": "code",
   "execution_count": 29,
   "id": "38af25ed",
   "metadata": {},
   "outputs": [],
   "source": [
    "#creating the module\n",
    "class Net1(nn.Module):\n",
    "    def __init__(self):\n",
    "        super().__init__()\n",
    "        self.lin1 = nn.Linear(30,512)\n",
    "        self.lin2 = nn.Linear(512,128)\n",
    "        self.lin7 = nn.Linear(128,64)\n",
    "        self.lin8 = nn.Linear(64,NUM_CLASSES)\n",
    "\n",
    "        self.drop2 = nn.Dropout(0.05)\n",
    "\n",
    "        self.lin1.weight.data.uniform_(-2,2)\n",
    "        self.lin2.weight.data.uniform_(-2,2)\n",
    "        self.lin7.weight.data.uniform_(-2,2)\n",
    "        self.lin8.weight.data.uniform_(-2,2)\n",
    "\n",
    "    def forward(self, data):\n",
    "        x = torch.tanh(self.lin1(data))\n",
    "        x = self.drop2(torch.tanh(self.lin2(x)))\n",
    "        x = torch.tanh(self.lin7(x))\n",
    "        x = self.lin8(x)\n",
    "\n",
    "        return (x)"
   ]
  },
  {
   "cell_type": "markdown",
   "id": "c9d0910e",
   "metadata": {},
   "source": [
    "###  b. Instantiate the network, the loss function and the optimizer <a name=\"keras\"></a>"
   ]
  },
  {
   "cell_type": "code",
   "execution_count": 30,
   "id": "32424175",
   "metadata": {},
   "outputs": [
    {
     "name": "stdout",
     "output_type": "stream",
     "text": [
      "cpu\n"
     ]
    }
   ],
   "source": [
    "device = torch.device(\"cuda:0\" if torch.cuda.is_available() else \"cpu\")\n",
    "print(device)"
   ]
  },
  {
   "cell_type": "code",
   "execution_count": 31,
   "id": "227cd94b",
   "metadata": {},
   "outputs": [
    {
     "name": "stdout",
     "output_type": "stream",
     "text": [
      "Net1(\n",
      "  (lin1): Linear(in_features=30, out_features=512, bias=True)\n",
      "  (lin2): Linear(in_features=512, out_features=128, bias=True)\n",
      "  (lin7): Linear(in_features=128, out_features=64, bias=True)\n",
      "  (lin8): Linear(in_features=64, out_features=2, bias=True)\n",
      "  (drop2): Dropout(p=0.05, inplace=False)\n",
      ")\n"
     ]
    }
   ],
   "source": [
    "#Instantiation\n",
    "model = Net1()\n",
    "#criterion = nn.CrossEntropyLoss()\n",
    "criterion = nn.CrossEntropyLoss(weight=class_weights)\n",
    "optimizer = torch.optim.Adam(model.parameters(), lr=LEARNING_RATE)\n",
    "print(model)\n"
   ]
  },
  {
   "cell_type": "markdown",
   "id": "637746b7",
   "metadata": {},
   "source": [
    "###  c. Train the network <a name=\"model\"></a>"
   ]
  },
  {
   "cell_type": "code",
   "execution_count": 32,
   "id": "76492ac9",
   "metadata": {},
   "outputs": [],
   "source": [
    "def multi_acc(y_pred, y_test):\n",
    "    y_pred_softmax = torch.log_softmax(y_pred, dim = 1)\n",
    "    _, y_pred_tags = torch.max(y_pred_softmax, dim = 1)    \n",
    "    \n",
    "    correct_pred = (y_pred_tags == y_test).float()\n",
    "    acc = correct_pred.sum() / len(correct_pred)\n",
    "    \n",
    "    acc = torch.round(acc * 100)\n",
    "    \n",
    "    return acc"
   ]
  },
  {
   "cell_type": "code",
   "execution_count": 33,
   "id": "bb823464",
   "metadata": {},
   "outputs": [],
   "source": [
    "accuracy_stats = {\n",
    "    'train': [],\n",
    "    \"val\": []\n",
    "}\n",
    "loss_stats = {\n",
    "    'train': [],\n",
    "    \"val\": []\n",
    "}"
   ]
  },
  {
   "cell_type": "code",
   "execution_count": 34,
   "id": "b20f2f76",
   "metadata": {},
   "outputs": [
    {
     "name": "stderr",
     "output_type": "stream",
     "text": [
      "\r",
      "  0%|          | 0/10 [00:00<?, ?it/s]"
     ]
    },
    {
     "name": "stdout",
     "output_type": "stream",
     "text": [
      "Begin training.\n"
     ]
    },
    {
     "name": "stderr",
     "output_type": "stream",
     "text": [
      "\r",
      " 10%|█         | 1/10 [00:05<00:48,  5.43s/it]"
     ]
    },
    {
     "name": "stdout",
     "output_type": "stream",
     "text": [
      "Epoch 001: | Train Loss: 11.47217 | Val Loss: 9.97368 | Train Acc: 11.500| Val Acc: 10.614\n"
     ]
    },
    {
     "name": "stderr",
     "output_type": "stream",
     "text": [
      "\r",
      " 20%|██        | 2/10 [00:10<00:39,  4.96s/it]"
     ]
    },
    {
     "name": "stdout",
     "output_type": "stream",
     "text": [
      "Epoch 002: | Train Loss: 8.87909 | Val Loss: 7.33200 | Train Acc: 17.833| Val Acc: 19.484\n"
     ]
    },
    {
     "name": "stderr",
     "output_type": "stream",
     "text": [
      "\r",
      " 30%|███       | 3/10 [00:15<00:37,  5.29s/it]"
     ]
    },
    {
     "name": "stdout",
     "output_type": "stream",
     "text": [
      "Epoch 003: | Train Loss: 6.67488 | Val Loss: 5.08726 | Train Acc: 27.500| Val Acc: 31.204\n"
     ]
    },
    {
     "name": "stderr",
     "output_type": "stream",
     "text": [
      "\r",
      " 40%|████      | 4/10 [00:21<00:31,  5.29s/it]"
     ]
    },
    {
     "name": "stdout",
     "output_type": "stream",
     "text": [
      "Epoch 004: | Train Loss: 4.75980 | Val Loss: 3.37490 | Train Acc: 38.833| Val Acc: 45.430\n"
     ]
    },
    {
     "name": "stderr",
     "output_type": "stream",
     "text": [
      "\r",
      " 50%|█████     | 5/10 [00:25<00:25,  5.10s/it]"
     ]
    },
    {
     "name": "stdout",
     "output_type": "stream",
     "text": [
      "Epoch 005: | Train Loss: 3.44729 | Val Loss: 2.17553 | Train Acc: 49.667| Val Acc: 58.673\n"
     ]
    },
    {
     "name": "stderr",
     "output_type": "stream",
     "text": [
      "\r",
      " 60%|██████    | 6/10 [00:31<00:20,  5.16s/it]"
     ]
    },
    {
     "name": "stdout",
     "output_type": "stream",
     "text": [
      "Epoch 006: | Train Loss: 2.44835 | Val Loss: 1.43064 | Train Acc: 59.833| Val Acc: 69.509\n"
     ]
    },
    {
     "name": "stderr",
     "output_type": "stream",
     "text": [
      "\r",
      " 70%|███████   | 7/10 [00:36<00:15,  5.26s/it]"
     ]
    },
    {
     "name": "stdout",
     "output_type": "stream",
     "text": [
      "Epoch 007: | Train Loss: 1.69552 | Val Loss: 0.96857 | Train Acc: 68.833| Val Acc: 77.666\n"
     ]
    },
    {
     "name": "stderr",
     "output_type": "stream",
     "text": [
      "\r",
      " 80%|████████  | 8/10 [00:40<00:09,  4.84s/it]"
     ]
    },
    {
     "name": "stdout",
     "output_type": "stream",
     "text": [
      "Epoch 008: | Train Loss: 1.29852 | Val Loss: 0.67395 | Train Acc: 75.333| Val Acc: 84.103\n"
     ]
    },
    {
     "name": "stderr",
     "output_type": "stream",
     "text": [
      "\r",
      " 90%|█████████ | 9/10 [00:45<00:04,  4.75s/it]"
     ]
    },
    {
     "name": "stdout",
     "output_type": "stream",
     "text": [
      "Epoch 009: | Train Loss: 0.93757 | Val Loss: 0.50112 | Train Acc: 80.833| Val Acc: 88.280\n"
     ]
    },
    {
     "name": "stderr",
     "output_type": "stream",
     "text": [
      "100%|██████████| 10/10 [00:49<00:00,  4.97s/it]"
     ]
    },
    {
     "name": "stdout",
     "output_type": "stream",
     "text": [
      "Epoch 010: | Train Loss: 0.74689 | Val Loss: 0.39364 | Train Acc: 84.833| Val Acc: 91.253\n"
     ]
    },
    {
     "name": "stderr",
     "output_type": "stream",
     "text": [
      "\n"
     ]
    }
   ],
   "source": [
    "print(\"Begin training.\")\n",
    "for e in tqdm(range(1, EPOCHS+1)):\n",
    "    \n",
    "    # TRAINING\n",
    "    train_epoch_loss = 0\n",
    "    train_epoch_acc = 0\n",
    "    model.train()\n",
    "    for X_train_batch, y_train_batch in train_loader:\n",
    "        # get the inputs\n",
    "        X_train_batch, y_train_batch = X_train_batch, y_train_batch\n",
    "        \n",
    "        #gpu code\n",
    "        #X_train_batch, y_train_batch = X_train_batch.to(device), y_train_batch.to(device)\n",
    "        \n",
    "        # zero the parameter gradients\n",
    "        optimizer.zero_grad()\n",
    "        \n",
    "        # forward + backward + optimize\n",
    "        y_train_pred = model(X_train_batch)\n",
    "        train_loss = criterion(y_train_pred, y_train_batch)\n",
    "        train_acc = multi_acc(y_train_pred, y_train_batch)\n",
    "        train_loss.backward()\n",
    "        optimizer.step()\n",
    "        \n",
    "        train_epoch_loss += train_loss.item()\n",
    "        train_epoch_acc += train_acc.item()\n",
    "        \n",
    "        \n",
    "    # VALIDATION    \n",
    "    with torch.no_grad():\n",
    "        \n",
    "        val_epoch_loss = 0\n",
    "        val_epoch_acc = 0\n",
    "        \n",
    "        model.eval()\n",
    "        for X_val_batch, y_val_batch in val_loader:\n",
    "            # get the inputs\n",
    "            X_val_batch, y_val_batch = X_val_batch, y_val_batch\n",
    "            \n",
    "            #gpu code\n",
    "            #X_val_batch, y_val_batch = X_val_batch.to(device), y_val_batch.to(device)\n",
    "            \n",
    "            y_val_pred = model(X_val_batch)\n",
    "                        \n",
    "            val_loss = criterion(y_val_pred, y_val_batch)\n",
    "            val_acc = multi_acc(y_val_pred, y_val_batch)\n",
    "            \n",
    "            val_epoch_loss += val_loss.item()\n",
    "            val_epoch_acc += val_acc.item()\n",
    "    loss_stats['train'].append(train_epoch_loss/len(train_loader))\n",
    "    loss_stats['val'].append(val_epoch_loss/len(val_loader))\n",
    "    accuracy_stats['train'].append(train_epoch_acc/len(train_loader))\n",
    "    accuracy_stats['val'].append(val_epoch_acc/len(val_loader))\n",
    "                              \n",
    "    # print statistics\n",
    "    print(f'Epoch {e+0:03}: | Train Loss: {train_epoch_loss/len(train_loader):.5f} | Val Loss: {val_epoch_loss/len(val_loader):.5f} | Train Acc: {train_epoch_acc/len(train_loader):.3f}| Val Acc: {val_epoch_acc/len(val_loader):.3f}')"
   ]
  },
  {
   "cell_type": "markdown",
   "id": "2d3072df",
   "metadata": {},
   "source": [
    "*** \n",
    "**OBSERVATION:**\n",
    "\n",
    "a. In `cell 29`, a feed forward neural netwrok is created with  4 fully connceted layers with 30 as input size followed by neuron size of 512,128,64 with a linear activation function. \n",
    "    * Also , to avoid overfitting, dropout with a threshold of 0.05 is passed.  \n",
    "    \n",
    " \n",
    "b. In `cell 31` , we can say that network instantiation with  `CrossEntropy ` loss funtion for binary class classification , `ADAM` optimization  and learning rate of 0.001 is used.\n",
    "\n",
    "c.In `cell 34`, we train the network and print the validation loss and accuray along with training loss and accuarcy.\n",
    " * we can infer that training loss dropped to 0.74 from 11 and validaion loss from 9.9 to 0.3. \n",
    " * SImilary , in terms of accuracy , we can say that with increase in each epoch , training accuracy improved starting from just 11% to 84.83% and Validation accuracy from 10% to 91.25%.\n",
    " \n",
    "\n",
    "    \n",
    "**NOTE** NN using pytorch has given good results. as it is a high level api , and is suited for this large dataset and is capable of doing high computational. \n",
    "***"
   ]
  },
  {
   "cell_type": "markdown",
   "id": "29f765fa",
   "metadata": {},
   "source": [
    "<hr style=\"border:01px  solid gray\"> </hr>\n",
    "\n",
    "## <center>MODEL EVALUATION <a name=\"me\"></a>\n",
    "\n",
    "<hr style=\"border:01px  solid gray\"> </hr>"
   ]
  },
  {
   "cell_type": "code",
   "execution_count": 35,
   "id": "35270ab1",
   "metadata": {},
   "outputs": [
    {
     "data": {
      "text/plain": [
       "Text(0.5, 1.0, 'Train-Val Loss/Epoch')"
      ]
     },
     "execution_count": 35,
     "metadata": {},
     "output_type": "execute_result"
    },
    {
     "data": {
      "image/png": "[encoded data removed]",
      "text/plain": [
       "<Figure size 1440x504 with 2 Axes>"
      ]
     },
     "metadata": {
      "needs_background": "light"
     },
     "output_type": "display_data"
    }
   ],
   "source": [
    "#model evaluation on train and test set\n",
    "# Create dataframes\n",
    "train_val_acc_df = pd.DataFrame.from_dict(accuracy_stats).reset_index().melt(id_vars=['index']).rename(columns={\"index\":\"epochs\"})\n",
    "train_val_loss_df = pd.DataFrame.from_dict(loss_stats).reset_index().melt(id_vars=['index']).rename(columns={\"index\":\"epochs\"})\n",
    "\n",
    "# Plot the dataframes\n",
    "fig, axes = plt.subplots(nrows=1, ncols=2, figsize=(20,7))\n",
    "sns.lineplot(data=train_val_acc_df, x = \"epochs\", y=\"value\", hue=\"variable\",  ax=axes[0]).set_title('Train-Val Accuracy/Epoch')\n",
    "sns.lineplot(data=train_val_loss_df, x = \"epochs\", y=\"value\", hue=\"variable\", ax=axes[1]).set_title('Train-Val Loss/Epoch')"
   ]
  },
  {
   "cell_type": "code",
   "execution_count": 36,
   "id": "8fc26daa",
   "metadata": {},
   "outputs": [],
   "source": [
    "y_pred_list = []\n",
    "with torch.no_grad():\n",
    "    model.eval()\n",
    "    for X_batch, _ in test_loader:\n",
    "        #gpu code\n",
    "        #X_batch = X_batch.to(device)\n",
    "        y_test_pred = model(X_batch)\n",
    "        _, y_pred_tags = torch.max(y_test_pred, dim = 1)\n",
    "        y_pred_list.append(y_pred_tags.numpy())\n",
    "        #y_pred_list.append(y_pred_tags.cpu().numpy())\n",
    "y_pred_list = [a.squeeze().tolist() for a in y_pred_list]"
   ]
  },
  {
   "cell_type": "code",
   "execution_count": 37,
   "id": "a089afef",
   "metadata": {},
   "outputs": [],
   "source": [
    "class2idx = {\n",
    "    0:0,\n",
    "    1:1,\n",
    "    \n",
    "}\n",
    "\n",
    "idx2class = {v: k for k, v in class2idx.items()}\n",
    "\n",
    "df['Class'].replace(class2idx, inplace=True)"
   ]
  },
  {
   "cell_type": "code",
   "execution_count": 39,
   "id": "cec31093",
   "metadata": {},
   "outputs": [
    {
     "name": "stdout",
     "output_type": "stream",
     "text": [
      "              precision    recall  f1-score   support\n",
      "\n",
      "           0       0.99      0.90      0.95     10098\n",
      "           1       0.02      0.22      0.03        77\n",
      "\n",
      "    accuracy                           0.90     10175\n",
      "   macro avg       0.51      0.56      0.49     10175\n",
      "weighted avg       0.99      0.90      0.94     10175\n",
      "\n"
     ]
    }
   ],
   "source": [
    "print(classification_report(y_test, y_pred_list))\n"
   ]
  },
  {
   "cell_type": "markdown",
   "id": "0d16f560",
   "metadata": {},
   "source": [
    "***\n",
    "\n",
    "<b>OBSERVATION:</b>\n",
    "\n",
    "From the above model evaluation, \n",
    "* In accuracy graph , we can depict that our model isn't overfitting as it  doesn't diverge . It is at par with each other in the same direction.\n",
    "* The loss graph infers the same where initially it can be seen that both taining and validationloss are more and gradually decreases with increase in each epoch. \n",
    "* Accuracy, from 10% to 90% was acheived in test data. \n",
    "* We infer that it performs the best in classifying fradulent cards.\n",
    "* Classification report shows the accuracy of 90%. \n",
    "* However, the F1 score to be able to classify fraudulent cases is very less. \n",
    "* All the features are considered here.\n",
    "\n",
    "\n"
   ]
  },
  {
   "cell_type": "markdown",
   "id": "1f6d7de1",
   "metadata": {},
   "source": [
    "<hr style=\"border:01px  solid gray\"> </hr>\n",
    "\n",
    "## <center>CONCLUSION<a name=\"cln\"></a>\n",
    "\n",
    "<hr style=\"border:01px  solid gray\"> </hr>\n",
    "\n",
    "* From the above implementation and evalutaion, we can say for this particular model of classifying credit cards with  **Feed forward neural network** considering all the features, \n",
    "        * the maximum accuracy achieved was 91%.\n",
    "        * It is well suited for this dataset as it has 50k + records. \n",
    "        * It is capable of doing high computational work. \n",
    "        * The loss score achieved is 0.3.Thus indicating a super fit model. \n",
    "        * The loss decreases and accuracy increases. \n",
    "        * Regularization played a major role in boosting the performance.\n",
    "\n",
    "\n",
    "* Model can be improved further by hyper parameter tuning and  cross  validation. Also, different deep learning models could be implemented. Variations can be checked for and compared.\n",
    "* Additionally, features selection can be done to improve perfomance.Since , the column names are hidden and we are not sure about the fields, we have considered all the columns. \n",
    "* Also, other sampling methods can be tried on to boost the results . \n"
   ]
  },
  {
   "cell_type": "markdown",
   "id": "02bae784",
   "metadata": {},
   "source": [
    "<hr style=\"border:.03px  solid black\"> </hr> <a name=\"ob\"></a>\n",
    "<hr style=\"border:.03px  solid black\"> </hr> <a name=\"ob\"></a>\n",
    "\n",
    "# <center>OVERALL OBSERVATION</b></center>\n",
    "\n",
    "**1. With respect to data pre-processing:** \n",
    "* Outlier removal played a major role in classifying. \n",
    "* Datastet columns are named with V1 and so on upto V28 due to privacy reasons. Hence, We have considered all the features in this model without ignoring any column. \n",
    "\n",
    "\n",
    "**2. With respect to initializing the model and compiling them:**\n",
    "* Since binary class classification problem : \n",
    "    - output layer = hyperbolic tangent tanH\n",
    "    - loss function = crossentropy \n",
    "    -  With epoch with 5 , model loss was more accounting to 6.5 . Also with less batch_size input, model performed poorer giving an accuracy of 85% and high loss of 6.5. \n",
    "    - Optimizer = Adam gave good results . \n",
    "\n",
    "**3.With respect to regularization techniques:**\n",
    "* With \"dropout\" regularization technique, the loss value decreased and accuracy increased , as neurons are dropped at random     in the training phase during each iteration which helped in achieving pretty good results. \n",
    "\n",
    "**4. With respect to train_test_split:**\n",
    "* 70:30 ratio split, produced an accuracy of 70% . \n",
    "* 80:20 produced 91%. \n"
   ]
  }
 ],
 "metadata": {
  "kernelspec": {
   "display_name": "Python 3",
   "language": "python",
   "name": "python3"
  },
  "language_info": {
   "codemirror_mode": {
    "name": "ipython",
    "version": 3
   },
   "file_extension": ".py",
   "mimetype": "text/x-python",
   "name": "python",
   "nbconvert_exporter": "python",
   "pygments_lexer": "ipython3",
   "version": "3.8.8"
  }
 },
 "nbformat": 4,
 "nbformat_minor": 5
}
